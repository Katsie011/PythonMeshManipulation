{
 "metadata": {
  "language_info": {
   "codemirror_mode": {
    "name": "ipython",
    "version": 3
   },
   "file_extension": ".py",
   "mimetype": "text/x-python",
   "name": "python",
   "nbconvert_exporter": "python",
   "pygments_lexer": "ipython3",
   "version": "3.8.3"
  },
  "orig_nbformat": 2,
  "kernelspec": {
   "name": "python383jvsc74a57bd0ad3ccca28cbf0d5992955f2764a4bc8db0f04e140cadac7919bc93af44304557",
   "display_name": "Python 3.8.3 64-bit ('base': conda)"
  }
 },
 "nbformat": 4,
 "nbformat_minor": 2,
 "cells": [
  {
   "source": [
    "# Formulation of different coordinate sections\n",
    "\n",
    "---\n",
    "\n",
    "Notebook to explore and explain the ways that diffferent coordinate systems are implemented. \n",
    "\n",
    "The coordinate systems used are: \n",
    "- Cartesian Coordinates\n",
    "- Generalised Barycentric Coordinates\n",
    "- Local Barycentric Coordinates"
   ],
   "cell_type": "markdown",
   "metadata": {}
  },
  {
   "cell_type": "code",
   "execution_count": 2,
   "metadata": {},
   "outputs": [],
   "source": [
    "import numpy as np\n",
    "\n",
    "import GenerateMesh\n"
   ]
  },
  {
   "source": [
    "## Cartesian Coordinates\n",
    "\n",
    "Cartesian coordinates are the most simple as most people are used to them however, some details need to be established before they are implemented in meshes and maps.\n",
    "\n",
    "These details include:\n",
    "- Where is the origin\n",
    "- What are the coordinates measured relative to?\n",
    "    - Is a map's coordinates laid out relative to the global gps coordinates\n",
    "    - Is it relative to some physical feature\n",
    "    - Is the spot where measurement starts considered the origin?\n",
    "    - What is the method of transforming coordinates recieved when driving on to the mesh map that is being built.\n",
    "        - When is the position of the vehicle known to an accurate enough degree to use it and when does it have to be solved?\n",
    "        "
   ],
   "cell_type": "markdown",
   "metadata": {}
  },
  {
   "cell_type": "code",
   "execution_count": null,
   "metadata": {},
   "outputs": [],
   "source": []
  },
  {
   "cell_type": "code",
   "execution_count": null,
   "metadata": {},
   "outputs": [],
   "source": []
  },
  {
   "source": [
    "## Generalised Barycentric Coordinates\n",
    "\n",
    "GBC are normally used to describe the coordinates of a point within a triangle. \n",
    "\n",
    "\n",
    "lorem \n",
    "ipsum \n",
    "yada \n",
    "da\n"
   ],
   "cell_type": "markdown",
   "metadata": {}
  },
  {
   "cell_type": "code",
   "execution_count": null,
   "metadata": {},
   "outputs": [],
   "source": []
  },
  {
   "cell_type": "code",
   "execution_count": null,
   "metadata": {},
   "outputs": [],
   "source": []
  },
  {
   "source": [
    "## Local Barycentric Coordinates\n",
    "\n",
    "Local Barycentric Coordinates is a system of coordinates by {} that was developed for the manipulation of meshes in computer graphics. \n",
    "\n",
    "The result is that they provide a way of manipulating meshes in an intuitive way that causes deformations that are local to a series of control points that can be moved.\n",
    "\n",
    "\n",
    "\n",
    "#### Formulation:\n",
    "\\begin{equation}\n",
    "    \\begin{split}\n",
    "        \\min_{w_1, \\; \\dotso, w_n} & \\sum^{n}_{i=1}\\int_{\\Omega} |\\nabla w_i |\\\\ % minimise the sum of t\n",
    "        s.t. & \\sum^{n}_{i=1} w_i = 1, w_i \\geq 0, \\forall x \\in \\Omega,\\\\\n",
    "        & w_i(c_j ) = \\delta_{ij} \\forall_i, j,\\\\\n",
    "        & w_i \\texttt{ is linear on cage edges and faces } \\forall i.\\\\  \n",
    "    \\end{split}\n",
    "\\end{equation}\n",
    "\n",
    "\n",
    "Where:\n",
    "\n",
    "$w_1(x), . . . , w_n(x)]$\n",
    "\n",
    "are a set of BCs w.r.t. the control points $\\{c_i\\}$\n",
    "\n",
    "\n"
   ],
   "cell_type": "markdown",
   "metadata": {}
  },
  {
   "cell_type": "code",
   "execution_count": 1,
   "metadata": {},
   "outputs": [
    {
     "output_type": "error",
     "ename": "SyntaxError",
     "evalue": "invalid syntax (<ipython-input-1-6943b46dfa8e>, line 6)",
     "traceback": [
      "\u001b[0;36m  File \u001b[0;32m\"<ipython-input-1-6943b46dfa8e>\"\u001b[0;36m, line \u001b[0;32m6\u001b[0m\n\u001b[0;31m    TODO Complete this\u001b[0m\n\u001b[0m         ^\u001b[0m\n\u001b[0;31mSyntaxError\u001b[0m\u001b[0;31m:\u001b[0m invalid syntax\n"
     ]
    }
   ],
   "source": [
    "\n",
    "\n",
    "def nabla(w):\n",
    "    return np.gradient(w)\n",
    "\n",
    "def TV(Omega, phi_i, w_i, P_phi_i):\n",
    "\n",
    "    TODO Complete this\n",
    "\n",
    "def TV(Omega, )\n"
   ]
  },
  {
   "cell_type": "code",
   "execution_count": null,
   "metadata": {},
   "outputs": [],
   "source": []
  },
  {
   "cell_type": "code",
   "execution_count": null,
   "metadata": {},
   "outputs": [],
   "source": []
  },
  {
   "source": [
    "# Regularisation of Meshes\n",
    "\n",
    "---\n",
    "\n",
    "\n",
    "\n",
    "\n",
    "- Total Variation\n",
    "- Total Generalised Variation\n",
    "\n",
    "- Surface Area Regularisation\n"
   ],
   "cell_type": "markdown",
   "metadata": {}
  },
  {
   "cell_type": "code",
   "execution_count": null,
   "metadata": {},
   "outputs": [],
   "source": []
  },
  {
   "cell_type": "code",
   "execution_count": null,
   "metadata": {},
   "outputs": [],
   "source": []
  },
  {
   "source": [
    "## Surface Area Regularisation:\n",
    "\n",
    "\n",
    "Total variation had the form:\n",
    "\n",
    "$ Minimize \\frac{1}{2} \\sum_V |x_V − \\tilde x_V |^2_2 + \\beta |n|_{DTV(|\\Gamma_h)}|$\n",
    "\n",
    "w.r.t. the vertex positions $x_V$ of the discrete surface $\\Gamma_h$\n",
    "\n",
    "\n",
    "For Surface Area Regularisation, \n",
    "\n",
    "\n",
    "\n",
    "Where:\n",
    "\n",
    "- $\\tilde x_V$ is the noisy vertex positions\n",
    "- $\\Gamma_h$ is the triangular mesh of the object $\\Omega$\n"
   ],
   "cell_type": "markdown",
   "metadata": {}
  }
 ]
}