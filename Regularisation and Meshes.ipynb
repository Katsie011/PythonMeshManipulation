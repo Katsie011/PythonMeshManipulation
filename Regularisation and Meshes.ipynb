{
 "cells": [
  {
   "cell_type": "markdown",
   "metadata": {},
   "source": [
    "# Regularisation of Meshes.\n",
    "---\n",
    "<br>\n",
    "<br>\n",
    "<br>\n",
    "<br>\n"
   ]
  },
  {
   "cell_type": "code",
   "execution_count": null,
   "metadata": {},
   "outputs": [],
   "source": []
  },
  {
   "cell_type": "code",
   "execution_count": null,
   "metadata": {},
   "outputs": [],
   "source": []
  },
  {
   "cell_type": "markdown",
   "metadata": {},
   "source": [
    "## Applying Barycentric Coordinates\n",
    "---\n",
    "<br>\n",
    "Barycentric coordinates are great for describing triangles. \n",
    "\n",
    "<br> \n",
    "\n",
    "The location of a point within a triangles (and other polygons) can be described by the ratio of the areas within the triangles. \n",
    "\n",
    "- This can be expanded into a planar area in 3D.\n",
    "\n",
    "\n",
    "If the area of each triangulation is used to influence the regularising effect on the heights of each sampled point, the amount of influence neighbouring points have on a particular point can be controlled. \n",
    "\n",
    "Taking a plane of points in $\\mathcal{R}^3$, if there is an outlier that is at a substantially different height to the rest of the plane, any other two points in the plane that form a triangle with the outlier will have a small area in $\\mathcal{R}^2$ when the surface is projected into the $xy \\,-$ plane.    \n",
    "\n",
    "If there is a small feature that is located at more than just one point, it is most likely not an artifact of noise. There will be other points neighbouring an outlying point that are on a similar height. This results in the triangle formed between these points having a larger area in the $\\mathcal{R}^2$ projection of the mesh. \n",
    "\n",
    "<br>\n",
    "<br>\n",
    "<br>\n",
    "<br>\n",
    "\n",
    "### Assumptions:\n",
    "- The grid is fairly regular. \n",
    "        - How do you deal with large gaps in the mesh?\n",
    "       \n",
    "\n"
   ]
  },
  {
   "cell_type": "code",
   "execution_count": null,
   "metadata": {},
   "outputs": [],
   "source": []
  },
  {
   "cell_type": "code",
   "execution_count": null,
   "metadata": {},
   "outputs": [],
   "source": []
  },
  {
   "cell_type": "code",
   "execution_count": null,
   "metadata": {},
   "outputs": [],
   "source": []
  },
  {
   "cell_type": "code",
   "execution_count": null,
   "metadata": {},
   "outputs": [],
   "source": []
  },
  {
   "cell_type": "markdown",
   "metadata": {},
   "source": [
    "## Total Variation\n"
   ]
  }
 ],
 "metadata": {
  "kernelspec": {
   "display_name": "Python 3",
   "language": "python",
   "name": "python3"
  },
  "language_info": {
   "codemirror_mode": {
    "name": "ipython",
    "version": 3
   },
   "file_extension": ".py",
   "mimetype": "text/x-python",
   "name": "python",
   "nbconvert_exporter": "python",
   "pygments_lexer": "ipython3",
   "version": "3.8.3"
  }
 },
 "nbformat": 4,
 "nbformat_minor": 4
}
